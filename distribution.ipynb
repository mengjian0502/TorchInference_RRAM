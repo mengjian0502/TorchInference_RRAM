{
 "cells": [
  {
   "cell_type": "code",
   "execution_count": 2,
   "metadata": {},
   "outputs": [
    {
     "ename": "ModuleNotFoundError",
     "evalue": "No module named 'seaborn'",
     "output_type": "error",
     "traceback": [
      "\u001b[0;31m---------------------------------------------------------------------------\u001b[0m",
      "\u001b[0;31mModuleNotFoundError\u001b[0m                       Traceback (most recent call last)",
      "\u001b[0;32m<ipython-input-2-2c1b0bfd0fc1>\u001b[0m in \u001b[0;36m<module>\u001b[0;34m\u001b[0m\n\u001b[1;32m      3\u001b[0m \u001b[0;32mimport\u001b[0m \u001b[0mtorch\u001b[0m\u001b[0;34m.\u001b[0m\u001b[0mnn\u001b[0m\u001b[0;34m.\u001b[0m\u001b[0mfunctional\u001b[0m \u001b[0;32mas\u001b[0m \u001b[0mF\u001b[0m\u001b[0;34m\u001b[0m\u001b[0;34m\u001b[0m\u001b[0m\n\u001b[1;32m      4\u001b[0m \u001b[0;32mimport\u001b[0m \u001b[0mmatplotlib\u001b[0m\u001b[0;34m.\u001b[0m\u001b[0mpyplot\u001b[0m \u001b[0;32mas\u001b[0m \u001b[0mplt\u001b[0m\u001b[0;34m\u001b[0m\u001b[0;34m\u001b[0m\u001b[0m\n\u001b[0;32m----> 5\u001b[0;31m \u001b[0;32mimport\u001b[0m \u001b[0mseaborn\u001b[0m \u001b[0;32mas\u001b[0m \u001b[0msns\u001b[0m\u001b[0;34m\u001b[0m\u001b[0;34m\u001b[0m\u001b[0m\n\u001b[0m\u001b[1;32m      6\u001b[0m \u001b[0;32mimport\u001b[0m \u001b[0mwarnings\u001b[0m\u001b[0;34m\u001b[0m\u001b[0;34m\u001b[0m\u001b[0m\n\u001b[1;32m      7\u001b[0m \u001b[0mwarnings\u001b[0m\u001b[0;34m.\u001b[0m\u001b[0mfilterwarnings\u001b[0m\u001b[0;34m(\u001b[0m\u001b[0;34m'ignore'\u001b[0m\u001b[0;34m)\u001b[0m\u001b[0;34m\u001b[0m\u001b[0;34m\u001b[0m\u001b[0m\n",
      "\u001b[0;31mModuleNotFoundError\u001b[0m: No module named 'seaborn'"
     ]
    }
   ],
   "source": [
    "import numpy as np\n",
    "import torch\n",
    "import torch.nn.functional as F\n",
    "import matplotlib.pyplot as plt\n",
    "import seaborn as sns\n",
    "import warnings\n",
    "warnings.filterwarnings('ignore')"
   ]
  },
  {
   "cell_type": "markdown",
   "metadata": {},
   "source": [
    "### Load the pretrained model"
   ]
  },
  {
   "cell_type": "code",
   "execution_count": null,
   "metadata": {},
   "outputs": [],
   "source": [
    "ckpt = torch.load(\"./save/vgg7_quant/vgg7_quant_w4_a4_mode_mean_asymm_wd0.0_swipe_train/model_best.pth.tar\")\n",
    "state_dict = ckpt[\"state_dict\"]"
   ]
  },
  {
   "cell_type": "markdown",
   "metadata": {},
   "source": [
    "### Get the weights of the last layer"
   ]
  },
  {
   "cell_type": "code",
   "execution_count": null,
   "metadata": {},
   "outputs": [],
   "source": [
    "weight = state_dict['features.17.weight']\n",
    "print(\"Weight size = {}\".format(list(weight.size())))"
   ]
  },
  {
   "cell_type": "markdown",
   "metadata": {},
   "source": [
    "### Low precision weight"
   ]
  },
  {
   "cell_type": "code",
   "execution_count": null,
   "metadata": {},
   "outputs": [],
   "source": [
    "from models import quant\n",
    "# precision\n",
    "nbit = 4\n",
    "cellBit = 1\n",
    "\n",
    "# quantize\n",
    "weight_q, wscale = quant.stats_quant(weight, nbit=nbit, dequantize=False)\n",
    "weight_q = weight_q.add(7)\n",
    "print(\"Unique levels of the {}bit weight: \\n{}\".format(nbit, weight_q.unique().cpu().numpy()))\n",
    "\n",
    "weight_b = quant.decimal2binary(weight_q, nbit, cellBit)\n",
    "print(\"\\nBinary weight size = {}\".format(list(weight_b.size())))"
   ]
  },
  {
   "cell_type": "code",
   "execution_count": null,
   "metadata": {},
   "outputs": [],
   "source": [
    "def binary2dec(wbit, weight_b, cellBit):\n",
    "    weight_int = 0\n",
    "    cellRange = 2**cellBit\n",
    "    for k in range(wbit//cellBit):\n",
    "        remainder = weight_b[k]\n",
    "        scaler = cellRange**k\n",
    "        weight_int += scaler*remainder\n",
    "    return weight_int"
   ]
  },
  {
   "cell_type": "markdown",
   "metadata": {},
   "source": [
    "### Conductance"
   ]
  },
  {
   "cell_type": "code",
   "execution_count": null,
   "metadata": {},
   "outputs": [],
   "source": [
    "hrs, lrs = 1e-6, 1.66e-4\n",
    "nonideal_unit = lrs - hrs"
   ]
  },
  {
   "cell_type": "markdown",
   "metadata": {},
   "source": [
    "### Scenario 0: Typicall value only"
   ]
  },
  {
   "cell_type": "code",
   "execution_count": null,
   "metadata": {},
   "outputs": [],
   "source": [
    "wb = weight_b.clone()\n",
    "w_ref = quant.bit2cond(wb, hrs, lrs)\n",
    "w_ref_q = w_ref.div(nonideal_unit)\n",
    "\n",
    "# ideally quantized\n",
    "wq_ideal = binary2dec(nbit, weight_b, cellBit=cellBit)\n",
    "# typical value\n",
    "wq_typicall = binary2dec(nbit, w_ref_q, cellBit=cellBit)"
   ]
  },
  {
   "cell_type": "markdown",
   "metadata": {},
   "source": [
    "### Scenario 1: SWIPE for all the levels"
   ]
  },
  {
   "cell_type": "code",
   "execution_count": null,
   "metadata": {},
   "outputs": [],
   "source": [
    "swipe_ll = [-1]\n",
    "w_swipe = quant.program_noise_cond(weight_q, weight_b, hrs, lrs, swipe_ll)\n",
    "w_swipe = w_swipe.div(nonideal_unit)\n",
    "\n",
    "# swipe\n",
    "wq_swipe = binary2dec(nbit, w_swipe, cellBit=cellBit)"
   ]
  },
  {
   "cell_type": "code",
   "execution_count": null,
   "metadata": {},
   "outputs": [],
   "source": [
    "ql = wq_ideal.unique().cpu().numpy()\n",
    "print(ql)\n",
    "plt.figure(figsize=(10,6))\n",
    "plt.scatter(ql, np.zeros(ql.shape), marker='s', s=100)\n",
    "sns.distplot(wq_swipe.view(-1).cpu().numpy())\n",
    "plt.xticks([ii for ii in range(15)])\n",
    "plt.title(\"4-bit Weight Programmed with SWIPE scheme\", fontsize=16, fontweight='bold')\n",
    "plt.grid(True)\n",
    "plt.savefig(\"./save/figs/swipe_all_4bit.png\", bbox_inches = 'tight', pad_inches = 0.1)"
   ]
  },
  {
   "cell_type": "markdown",
   "metadata": {},
   "source": [
    "### Scenario 2: Non-SWIPE for level 7"
   ]
  },
  {
   "cell_type": "code",
   "execution_count": null,
   "metadata": {},
   "outputs": [],
   "source": [
    "swipe_ll = [7]\n",
    "w_swipe = quant.program_noise_cond(weight_q, weight_b, hrs, lrs, swipe_ll)\n",
    "w_swipe = w_swipe.div(nonideal_unit)\n",
    "\n",
    "# swipe\n",
    "wq_swipe = binary2dec(nbit, w_swipe, cellBit=cellBit)"
   ]
  },
  {
   "cell_type": "code",
   "execution_count": null,
   "metadata": {},
   "outputs": [],
   "source": [
    "plt.figure(figsize=(10,6))\n",
    "plt.scatter(ql, np.zeros(ql.shape), marker='s', s=100)\n",
    "sns.distplot(wq_swipe.view(-1).cpu().numpy())\n",
    "plt.xticks([ii for ii in range(15)])\n",
    "plt.title(\"4-bit Weight Programmed with SWIPE scheme except level 7\", fontsize=16, fontweight='bold')\n",
    "plt.grid(True)\n",
    "plt.savefig(\"./save/figs/nonswipe7_4bit.png\", bbox_inches = 'tight', pad_inches = 0.1)"
   ]
  },
  {
   "cell_type": "markdown",
   "metadata": {},
   "source": [
    "### Scenario 3: Non-SWIPE for level 7, 8, 9"
   ]
  },
  {
   "cell_type": "code",
   "execution_count": null,
   "metadata": {},
   "outputs": [],
   "source": [
    "swipe_ll = [7,8,9]\n",
    "w_swipe = quant.program_noise_cond(weight_q, weight_b, hrs, lrs, swipe_ll)\n",
    "w_swipe = w_swipe.div(nonideal_unit)\n",
    "\n",
    "# swipe\n",
    "wq_swipe = binary2dec(nbit, w_swipe, cellBit=cellBit)"
   ]
  },
  {
   "cell_type": "code",
   "execution_count": null,
   "metadata": {},
   "outputs": [],
   "source": [
    "plt.figure(figsize=(10,6))\n",
    "plt.scatter(ql, np.zeros(ql.shape), marker='s', s=100)\n",
    "sns.distplot(wq_swipe.view(-1).cpu().numpy())\n",
    "plt.xticks([ii for ii in range(15)])\n",
    "plt.title(\"4-bit Weight Programmed with SWIPE scheme except level 7 8 9\", fontsize=16, fontweight='bold')\n",
    "plt.grid(True)\n",
    "plt.savefig(\"./save/figs/nonswipe789_4bit.png\", bbox_inches = 'tight', pad_inches = 0.1)"
   ]
  },
  {
   "cell_type": "markdown",
   "metadata": {},
   "source": [
    "### Scenario 4: Non-SWIPE for level 6,7,8,9"
   ]
  },
  {
   "cell_type": "code",
   "execution_count": null,
   "metadata": {},
   "outputs": [],
   "source": [
    "swipe_ll = [6,7,8,9]\n",
    "w_swipe = quant.program_noise_cond(weight_q, weight_b, hrs, lrs, swipe_ll)\n",
    "w_swipe = w_swipe.div(nonideal_unit)\n",
    "\n",
    "# swipe\n",
    "wq_swipe = binary2dec(nbit, w_swipe, cellBit=cellBit)"
   ]
  },
  {
   "cell_type": "code",
   "execution_count": null,
   "metadata": {},
   "outputs": [],
   "source": [
    "plt.figure(figsize=(10,6))\n",
    "plt.scatter(ql, np.zeros(ql.shape), marker='s', s=100)\n",
    "sns.distplot(wq_swipe.view(-1).cpu().numpy())\n",
    "plt.xticks([ii for ii in range(15)])\n",
    "plt.title(\"4-bit Weight Programmed with SWIPE scheme except level 6 7 8 9\", fontsize=16, fontweight='bold')\n",
    "plt.grid(True)\n",
    "plt.savefig(\"./save/figs/nonswipe6789_4bit.png\", bbox_inches = 'tight', pad_inches = 0.1)"
   ]
  },
  {
   "cell_type": "markdown",
   "metadata": {},
   "source": [
    "### Scenario 4: Non-SWIPE for level for all"
   ]
  },
  {
   "cell_type": "code",
   "execution_count": null,
   "metadata": {},
   "outputs": [],
   "source": [
    "swipe_ll = [ii for ii in range(15)]\n",
    "w_swipe = quant.program_noise_cond(weight_q, weight_b, hrs, lrs, swipe_ll)\n",
    "w_swipe = w_swipe.div(nonideal_unit)\n",
    "\n",
    "# swipe\n",
    "wq_swipe = binary2dec(nbit, w_swipe, cellBit=cellBit)"
   ]
  },
  {
   "cell_type": "code",
   "execution_count": null,
   "metadata": {},
   "outputs": [],
   "source": [
    "plt.figure(figsize=(10,6))\n",
    "plt.scatter(ql, np.zeros(ql.shape), marker='s', s=100)\n",
    "sns.distplot(wq_swipe.view(-1).cpu().numpy())\n",
    "plt.xticks([ii for ii in range(15)])\n",
    "plt.title(\"4-bit Weight Programmed with Non-SWIPE scheme\", fontsize=16, fontweight='bold')\n",
    "plt.grid(True)\n",
    "plt.savefig(\"./save/figs/nonswipe_4bit.png\", bbox_inches = 'tight', pad_inches = 0.1)"
   ]
  },
  {
   "cell_type": "markdown",
   "metadata": {},
   "source": [
    "### Layer level statistics"
   ]
  },
  {
   "cell_type": "code",
   "execution_count": null,
   "metadata": {},
   "outputs": [],
   "source": [
    "total = weight_q.numel()\n",
    "swipe = [3,7,8,9]\n",
    "swipe_perc = 0\n",
    "all_perc = 0\n",
    "for ii in weight_q.unique():\n",
    "    n = weight_q[weight_q==ii].numel()\n",
    "    perc = n/total * 100\n",
    "    if ii in swipe:\n",
    "        swipe_perc += perc\n",
    "    print(\"Level: {}; Percentage: {:.3f}%\".format(int(ii),perc))\n",
    "    all_perc += perc\n",
    "print(\"{:.2f}% of weights are programmed with SWIPE; {:.2f}% of weights are programmed by Non-SWIPE scheme\".format(swipe_perc, all_perc-swipe_perc))"
   ]
  },
  {
   "cell_type": "markdown",
   "metadata": {},
   "source": [
    "### Model level statistics"
   ]
  },
  {
   "cell_type": "code",
   "execution_count": null,
   "metadata": {},
   "outputs": [],
   "source": [
    "total_w = 0\n",
    "level_element = np.zeros(15)\n",
    "for k, v in state_dict.items():\n",
    "    if len(v.size()) == 4 and v.size(1) > 3:\n",
    "        wq, wscale = quant.stats_quant(v, nbit=nbit, dequantize=False)\n",
    "        wq = wq.add(7)\n",
    "        total_w += wq.numel()\n",
    "        \n",
    "        layer_element = []\n",
    "        for ii in wq.unique():\n",
    "            n = wq[wq==ii].numel()\n",
    "            layer_element.append(n)\n",
    "        print(layer_element)\n",
    "        level_element += np.array(layer_element)\n",
    "perc = level_element / total_w * 100"
   ]
  },
  {
   "cell_type": "code",
   "execution_count": null,
   "metadata": {},
   "outputs": [],
   "source": [
    "swipe_perc = 0\n",
    "swipe = [6, 7,8,9]\n",
    "for ii, p in enumerate(perc):\n",
    "    if ii in swipe:\n",
    "        swipe_perc += p\n",
    "print(\"Percentage of {} = {:.2f}\".format(swipe, swipe_perc))"
   ]
  },
  {
   "cell_type": "code",
   "execution_count": null,
   "metadata": {},
   "outputs": [],
   "source": []
  }
 ],
 "metadata": {
  "interpreter": {
   "hash": "0a272c7b3d0319486bd615b5e0ceaf3866118e4cd419eb6d16701b987fc04d0e"
  },
  "kernelspec": {
   "display_name": "Python 3",
   "language": "python",
   "name": "python3"
  },
  "language_info": {
   "codemirror_mode": {
    "name": "ipython",
    "version": 3
   },
   "file_extension": ".py",
   "mimetype": "text/x-python",
   "name": "python",
   "nbconvert_exporter": "python",
   "pygments_lexer": "ipython3",
   "version": "3.8.5"
  }
 },
 "nbformat": 4,
 "nbformat_minor": 5
}
